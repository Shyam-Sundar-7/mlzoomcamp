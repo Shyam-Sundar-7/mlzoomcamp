{
 "cells": [
  {
   "cell_type": "code",
   "execution_count": 5,
   "metadata": {},
   "outputs": [
    {
     "name": "stdout",
     "output_type": "stream",
     "text": [
      "{'interested in purchase of insurance': True, 'prediction': 0.8426353757722923}\n"
     ]
    }
   ],
   "source": [
    "import requests\n",
    "dd = {\n",
    "    'id': 1,\n",
    "    'Gender': 'Male',\n",
    "    'Age': 44,\n",
    "    'Driving_License': 1,\n",
    "    'Region_Code': 28,\n",
    "    'Previously_Insured': 0,\n",
    "    'Vehicle_Age': '> 2 Years',\n",
    "    'Vehicle_Damage': 'Yes',\n",
    "    'Annual_Premium': 40454,\n",
    "    'Policy_Sales_Channel': 26,\n",
    "    'Vintage': 217\n",
    "}\n",
    "url = 'http://127.0.0.1:9696/predict'\n",
    "response=requests.post(url, json=dd).json()\n",
    "print(response)"
   ]
  },
  {
   "cell_type": "code",
   "execution_count": null,
   "metadata": {},
   "outputs": [],
   "source": []
  }
 ],
 "metadata": {
  "kernelspec": {
   "display_name": "Python 3",
   "language": "python",
   "name": "python3"
  },
  "language_info": {
   "codemirror_mode": {
    "name": "ipython",
    "version": 3
   },
   "file_extension": ".py",
   "mimetype": "text/x-python",
   "name": "python",
   "nbconvert_exporter": "python",
   "pygments_lexer": "ipython3",
   "version": "3.11.5"
  }
 },
 "nbformat": 4,
 "nbformat_minor": 2
}
